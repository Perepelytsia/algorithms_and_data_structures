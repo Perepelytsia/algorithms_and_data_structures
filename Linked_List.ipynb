{
 "cells": [
  {
   "cell_type": "code",
   "execution_count": 4,
   "metadata": {},
   "outputs": [],
   "source": [
    "class Node:\n",
    "    def __init__(self, value: str):\n",
    "        self.__value    = value\n",
    "        self.__nextNode = None\n",
    "        \n",
    "    def setLink(self, nd):\n",
    "        self.__nextNode = nd\n",
    "        \n",
    "    def getNext(self):\n",
    "        return self.__nextNode\n",
    "    \n",
    "    def getValue(self)-> str:\n",
    "        return self.__value"
   ]
  },
  {
   "cell_type": "code",
   "execution_count": 5,
   "metadata": {},
   "outputs": [
    {
     "name": "stdout",
     "output_type": "stream",
     "text": [
      "3\n",
      "6\n",
      "2\n",
      "1\n",
      "5\n"
     ]
    }
   ],
   "source": [
    "class LinkedList:\n",
    "    def __init__(self, nd: Node):\n",
    "        self.__headNode = nd\n",
    "        \n",
    "    def __getNode(self, printPath: bool, fromNode) -> Node:\n",
    "        currentNode = self.__headNode\n",
    "        if printPath: print(currentNode.getValue())\n",
    "        while currentNode.getNext() is not None:\n",
    "            if fromNode and fromNode == currentNode:\n",
    "                return currentNode.getNext()\n",
    "            currentNode = currentNode.getNext()\n",
    "            if printPath: print(currentNode.getValue())\n",
    "        return currentNode\n",
    "    \n",
    "    def traversing(self):\n",
    "        self.__getNode(True, None)\n",
    "            \n",
    "    def add2Begin(self, nd: Node):\n",
    "        nd.setLink(self.__headNode)\n",
    "        self.__headNode = nd\n",
    "        \n",
    "    def add2End(self, nd: Node):\n",
    "        lastNode = self.__getNode(False, None)\n",
    "        lastNode.setLink(nd)\n",
    "        \n",
    "    def add2Middle(self, fromNode: Node, middleNode: Node):\n",
    "        nextNode = self.__getNode(False, fromNode)\n",
    "        fromNode.setLink(middleNode)\n",
    "        middleNode.setLink(nextNode)\n",
    "        \n",
    "    def remove2Begin(self):\n",
    "        self.__headNode = self.__headNode.getNext()\n",
    "         \n",
    "ll = LinkedList(Node('1'))\n",
    "\n",
    "ll.add2Begin(Node('2'))\n",
    "ndThree = Node('3')\n",
    "ll.add2Begin(ndThree)\n",
    "ll.add2Begin(Node('4'))\n",
    "ll.add2End(Node('5'))\n",
    "ll.add2Middle(ndThree, Node('6'))\n",
    "ll.remove2Begin()\n",
    "\n",
    "ll.traversing()"
   ]
  },
  {
   "cell_type": "code",
   "execution_count": null,
   "metadata": {},
   "outputs": [],
   "source": []
  }
 ],
 "metadata": {
  "kernelspec": {
   "display_name": "Python 3",
   "language": "python",
   "name": "python3"
  },
  "language_info": {
   "codemirror_mode": {
    "name": "ipython",
    "version": 3
   },
   "file_extension": ".py",
   "mimetype": "text/x-python",
   "name": "python",
   "nbconvert_exporter": "python",
   "pygments_lexer": "ipython3",
   "version": "3.8.3"
  }
 },
 "nbformat": 4,
 "nbformat_minor": 4
}
