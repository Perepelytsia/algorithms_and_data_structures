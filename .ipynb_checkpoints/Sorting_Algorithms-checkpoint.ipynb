{
 "cells": [
  {
   "cell_type": "markdown",
   "metadata": {},
   "source": [
    "# Sorting Algorithms"
   ]
  },
  {
   "cell_type": "code",
   "execution_count": 4,
   "metadata": {},
   "outputs": [],
   "source": [
    "def getData() -> list:\n",
    "    init = (5,7,88,5,7,5,0,9,8,54,4,3,0,4,1,3,1,312,34,67)\n",
    "    return list(init)"
   ]
  },
  {
   "cell_type": "markdown",
   "metadata": {},
   "source": [
    "## Selection Sort"
   ]
  },
  {
   "cell_type": "markdown",
   "metadata": {},
   "source": [
    "The selection sort algorithm sorts an array by repeatedly finding the minimum element (considering ascending order) from unsorted part and putting it at the beginning. The algorithm maintains two subarrays in a given array.\n",
    "\n",
    "1) The subarray which is already sorted.\n",
    "2) Remaining subarray which is unsorted.\n",
    "\n",
    "In every iteration of selection sort, the minimum element (considering ascending order) from the unsorted subarray is picked and moved to the sorted subarray. "
   ]
  },
  {
   "cell_type": "markdown",
   "metadata": {},
   "source": [
    "### my variant with extra list"
   ]
  },
  {
   "cell_type": "code",
   "execution_count": 9,
   "metadata": {},
   "outputs": [
    {
     "name": "stdout",
     "output_type": "stream",
     "text": [
      "[0, 0, 1, 1, 3, 3, 4, 4, 5, 5, 5, 7, 7, 8, 9, 34, 54, 67, 88, 312]\n",
      "[]\n",
      "[5, 7, 88, 5, 7, 5, 0, 9, 8, 54, 4, 3, 0, 4, 1, 3, 1, 312, 34, 67]\n"
     ]
    }
   ],
   "source": [
    "sortedArr   = []\n",
    "unsortedArr = getData()\n",
    "while unsortedArr:\n",
    "    minValue = None\n",
    "    for index in range(len(unsortedArr)):\n",
    "        value = unsortedArr[index]\n",
    "        if minValue == None or minValue > value:\n",
    "            minValue = value\n",
    "    unsortedArr.remove(minValue)\n",
    "    sortedArr.append(minValue)\n",
    "print(sortedArr)\n",
    "print(unsortedArr)\n",
    "print(getData())"
   ]
  },
  {
   "cell_type": "markdown",
   "metadata": {},
   "source": [
    "### The default implementation is not stable"
   ]
  },
  {
   "cell_type": "code",
   "execution_count": 21,
   "metadata": {},
   "outputs": [
    {
     "name": "stdout",
     "output_type": "stream",
     "text": [
      "[0, 0, 1, 1, 3, 3, 4, 4, 5, 5, 5, 7, 7, 8, 9, 34, 54, 67, 88, 312]\n",
      "[5, 7, 88, 5, 7, 5, 0, 9, 8, 54, 4, 3, 0, 4, 1, 3, 1, 312, 34, 67]\n"
     ]
    }
   ],
   "source": [
    "data = getData()\n",
    "for i in range(len(data)):\n",
    "    minIndex = i\n",
    "    for j in range(i, len(data)):\n",
    "        if data[minIndex] > data[j]:\n",
    "            minIndex = j\n",
    "    data[i], data[minIndex] = data[minIndex], data[i] \n",
    "print(data)\n",
    "print(getData())"
   ]
  },
  {
   "cell_type": "markdown",
   "metadata": {},
   "source": [
    "### stable"
   ]
  },
  {
   "cell_type": "markdown",
   "metadata": {},
   "source": [
    "Selection sort can be made Stable if instead of swapping, the minimum element is placed in its position \n",
    "without swapping i.e. by placing the number in its position by pushing every element one step forward.\n",
    "In simple terms use a technique like insertion sort which means inserting element in its correct place. "
   ]
  },
  {
   "cell_type": "code",
   "execution_count": 26,
   "metadata": {},
   "outputs": [
    {
     "name": "stdout",
     "output_type": "stream",
     "text": [
      "[0, 0, 1, 1, 3, 3, 4, 4, 5, 5, 5, 7, 7, 8, 9, 34, 54, 67, 88, 312]\n",
      "[5, 7, 88, 5, 7, 5, 0, 9, 8, 54, 4, 3, 0, 4, 1, 3, 1, 312, 34, 67]\n"
     ]
    }
   ],
   "source": [
    "data = getData()\n",
    "for i in range(len(data)):\n",
    "    minIndex = i\n",
    "    for j in range(i, len(data)):\n",
    "        if data[minIndex] > data[j]:\n",
    "            minIndex = j\n",
    "        #data[i], data[minIndex] = data[minIndex], data[i] -- default logic\n",
    "        '''Move minimum element at current i  -- stable logic'''\n",
    "        value = data[minIndex] \n",
    "        while minIndex > i: \n",
    "            data[minIndex] = data[minIndex - 1] \n",
    "            minIndex -= 1\n",
    "        data[i] = value\n",
    "print(data)\n",
    "print(getData())"
   ]
  },
  {
   "cell_type": "markdown",
   "metadata": {},
   "source": [
    "Time Complexity: O(n2) as there are two nested loops.\n",
    "Auxiliary Space: O(1)\n",
    "The good thing about selection sort is it never makes more than O(n) swaps \n",
    "and can be useful when memory write is a costly operation.\n",
    "Stability : The default implementation is not stable. However it can be made stable.\n",
    "In Place : Yes, it does not require extra space."
   ]
  },
  {
   "cell_type": "markdown",
   "metadata": {},
   "source": [
    "# Insertion Sort"
   ]
  },
  {
   "cell_type": "markdown",
   "metadata": {},
   "source": [
    "Insertion sort works similarly as we sort cards in our hand in a card game. We assume that the first card is \n",
    "already sorted then, we select an unsorted card. If the unsorted card is greater than the card in hand, it is \n",
    "placed on the right otherwise, to the left. In the same way, other unsorted cards are taken and put at their right \n",
    "place. A similar approach is used by insertion sort. Insertion sort is a sorting algorithm that places an unsorted \n",
    "element at its suitable place in each iteration."
   ]
  },
  {
   "cell_type": "code",
   "execution_count": 40,
   "metadata": {},
   "outputs": [
    {
     "name": "stdout",
     "output_type": "stream",
     "text": [
      "[[0, 0, 1, 1, 3, 3, 4, 4, 5, 5, 5, 7, 7, 8, 9, 34, 54, 67, 88, 312]]\n",
      "[5, 7, 88, 5, 7, 5, 0, 9, 8, 54, 4, 3, 0, 4, 1, 3, 1, 312, 34, 67]\n"
     ]
    }
   ],
   "source": [
    "data = getData()\n",
    "for i in range(1, len(data)):\n",
    "    j = i\n",
    "    while j > 0 and data[j] < data[j-1]:\n",
    "        data[j], data[j-1] = data[j-1], data[j]\n",
    "        j -= 1\n",
    "print(data)\n",
    "print(getData())"
   ]
  },
  {
   "cell_type": "code",
   "execution_count": null,
   "metadata": {},
   "outputs": [],
   "source": [
    "Time Complexity: O(n*2)\n",
    "Auxiliary Space: O(1)\n",
    "Stable: Yes"
   ]
  },
  {
   "cell_type": "markdown",
   "metadata": {},
   "source": [
    "# Bubble Sort"
   ]
  },
  {
   "cell_type": "code",
   "execution_count": 68,
   "metadata": {},
   "outputs": [
    {
     "name": "stdout",
     "output_type": "stream",
     "text": [
      "[0, 0, 1, 1, 3, 3, 4, 4, 5, 5, 5, 7, 7, 8, 9, 34, 54, 67, 88, 312]\n",
      "[5, 7, 88, 5, 7, 5, 0, 9, 8, 54, 4, 3, 0, 4, 1, 3, 1, 312, 34, 67]\n"
     ]
    }
   ],
   "source": [
    "data = getData()\n",
    "n = len(arr)\n",
    "for i in range(n):\n",
    "    for j in range(n - 1 - i):\n",
    "        if data[j] > data[j+1]:\n",
    "            data[j], data[j+1] = data[j+1], data[j]\n",
    "print(data)\n",
    "print(getData())"
   ]
  },
  {
   "cell_type": "markdown",
   "metadata": {},
   "source": [
    "Worst and Average Case Time Complexity: O(n*n). Worst case occurs when array is reverse sorted.\n",
    "Best Case Time Complexity: O(n). Best case occurs when array is already sorted.\n",
    "Auxiliary Space: O(1)\n",
    "Boundary Cases: Bubble sort takes minimum time (Order of n) when elements are already sorted"
   ]
  },
  {
   "cell_type": "code",
   "execution_count": null,
   "metadata": {},
   "outputs": [],
   "source": []
  }
 ],
 "metadata": {
  "kernelspec": {
   "display_name": "Python 3",
   "language": "python",
   "name": "python3"
  },
  "language_info": {
   "codemirror_mode": {
    "name": "ipython",
    "version": 3
   },
   "file_extension": ".py",
   "mimetype": "text/x-python",
   "name": "python",
   "nbconvert_exporter": "python",
   "pygments_lexer": "ipython3",
   "version": "3.8.3"
  }
 },
 "nbformat": 4,
 "nbformat_minor": 4
}
