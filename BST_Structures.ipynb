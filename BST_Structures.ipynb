{
 "cells": [
  {
   "cell_type": "markdown",
   "metadata": {},
   "source": [
    "# Binary Search Tree"
   ]
  },
  {
   "cell_type": "markdown",
   "metadata": {},
   "source": [
    "(BST), also called an ordered or sorted binary tree, is a rooted binary tree whose internal \n",
    "nodes each store a key greater than all the keys in the node's left subtree and less than those in its right \n",
    "subtree. A binary tree is a type of data structure for storing data such as numbers in an organized way.\n",
    "left_subtree (keys)  ≤  node (key)  ≤  right_subtree (keys)"
   ]
  },
  {
   "cell_type": "code",
   "execution_count": 54,
   "metadata": {},
   "outputs": [
    {
     "name": "stdout",
     "output_type": "stream",
     "text": [
      "7 Not Found\n",
      "14 is found\n"
     ]
    }
   ],
   "source": [
    "class Node:\n",
    "    def __init__(self, data: int, level: int):\n",
    "        self.left  = None\n",
    "        self.right = None\n",
    "        self.data  = data\n",
    "\n",
    "    # Insert method to create nodes\n",
    "    def insert(self, data):\n",
    "        if self.data:\n",
    "            if data < self.data:\n",
    "                if self.left is None:\n",
    "                    self.left = Node(data)\n",
    "                else:\n",
    "                    self.left.insert(data)\n",
    "            elif data > self.data:\n",
    "                if self.right is None:\n",
    "                    self.right = Node(data)\n",
    "                else:\n",
    "                    self.right.insert(data)\n",
    "        else:\n",
    "            self.data = data\n",
    "            \n",
    "    # findval method to compare the value with nodes\n",
    "    def findval(self, lkpval):\n",
    "        if lkpval < self.data:\n",
    "            if self.left is None:\n",
    "                return str(lkpval)+\" Not Found\"\n",
    "            return self.left.findval(lkpval)\n",
    "        elif lkpval > self.data:\n",
    "            if self.right is None:\n",
    "                return str(lkpval)+\" Not Found\"\n",
    "            return self.right.findval(lkpval)\n",
    "        else:\n",
    "            return str(self.data) + ' is found'\n",
    "            \n",
    "root = Node(12)\n",
    "\n",
    "root.insert(6)\n",
    "root.insert(14)\n",
    "root.insert(3)\n",
    "\n",
    "print(root.findval(7))\n",
    "print(root.findval(14))"
   ]
  },
  {
   "cell_type": "markdown",
   "metadata": {},
   "source": [
    "Search      O(log n)\n",
    "Insert      O(log n)\n",
    "Delete      O(log n)"
   ]
  },
  {
   "cell_type": "markdown",
   "metadata": {},
   "source": [
    "# Full v.s. Complete Binary Trees"
   ]
  },
  {
   "cell_type": "markdown",
   "metadata": {},
   "source": [
    "A full binary tree (sometimes proper binary tree or 2-tree) is a tree in which every node other than the leaves has\n",
    "two children.\n",
    "\n",
    "A complete binary tree is a binary tree in which every level, except possibly the last, is completely filled, and \n",
    "all nodes are as far left as possible.\n",
    "\n",
    "Perfect Binary Tree A Binary tree is a Perfect Binary Tree in which all the internal nodes have two children and all leaf nodes are at the same level. \n",
    "The following are the examples of Perfect Binary Trees. "
   ]
  },
  {
   "cell_type": "code",
   "execution_count": 27,
   "metadata": {},
   "outputs": [
    {
     "name": "stdout",
     "output_type": "stream",
     "text": [
      "[1]\n",
      "{'lvl': 0, 'nodes': 1}\n",
      "[2, 3]\n",
      "{'lvl': 1, 'nodes': 2}\n",
      "[4, 5, 6, 7]\n",
      "{'lvl': 2, 'nodes': 4}\n",
      "[8, 9, 10, 11, 12, 13, 14, 15]\n",
      "{'lvl': 3, 'nodes': 8}\n",
      "[16, 17, 18, 19, 20, 21, 22, 23, 24, 25, 26, 27, 28, 29, 30, 31]\n",
      "{'lvl': 4, 'nodes': 16}\n",
      "{'lvl': 5, 'nodes': 1}\n"
     ]
    }
   ],
   "source": [
    "import math\n",
    "\n",
    "n       = 33\n",
    "data    = [i for i in range(1, n)]\n",
    "max_lvl = math.floor(math.log2(len(data) - 1))\n",
    "cur_lvl = None\n",
    "row     = []\n",
    "\n",
    "for node in data:\n",
    "      \n",
    "    calc = math.log2(node)\n",
    "    lvl  = math.floor(calc)\n",
    "    if lvl != cur_lvl:\n",
    "        if row:\n",
    "            print(row)\n",
    "            print({'lvl': cur_lvl, 'nodes': len(row)})\n",
    "        cur_lvl = lvl \n",
    "        row = []\n",
    "    row.append(node)\n",
    "        \n",
    "print({'lvl': cur_lvl, 'nodes': len(row)})"
   ]
  }
 ],
 "metadata": {
  "celltoolbar": "Raw Cell Format",
  "kernelspec": {
   "display_name": "Python 3",
   "language": "python",
   "name": "python3"
  },
  "language_info": {
   "codemirror_mode": {
    "name": "ipython",
    "version": 3
   },
   "file_extension": ".py",
   "mimetype": "text/x-python",
   "name": "python",
   "nbconvert_exporter": "python",
   "pygments_lexer": "ipython3",
   "version": "3.8.3"
  }
 },
 "nbformat": 4,
 "nbformat_minor": 4
}
