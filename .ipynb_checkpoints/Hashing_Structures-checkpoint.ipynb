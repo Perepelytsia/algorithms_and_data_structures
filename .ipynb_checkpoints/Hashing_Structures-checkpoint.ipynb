{
 "cells": [
  {
   "cell_type": "markdown",
   "metadata": {},
   "source": [
    "Let a hash function H(x) maps the value x at the index x%10 in an Array. \n",
    "For example if the list of values is [11,12,13,14,15] it will be stored at positions \n",
    "{1,2,3,4,5} in the array or Hash table respectively."
   ]
  },
  {
   "cell_type": "markdown",
   "metadata": {},
   "source": [
    "Let's assume that the size of the hash table is 7, and we will use the formula (k1 % m) where m is the size \n",
    "of the hash table."
   ]
  },
  {
   "cell_type": "markdown",
   "metadata": {},
   "source": [
    "[3,2,9,11,7]  \n",
    "As we can see from the above results, the values 2 and 9 have the same hash value, \n",
    "and we cannot store more than one value at each position"
   ]
  },
  {
   "cell_type": "markdown",
   "metadata": {},
   "source": [
    "The given problem can be solved by either using chaining or probing. \n",
    "The following sections discuss chaining and probing in detail."
   ]
  },
  {
   "cell_type": "markdown",
   "metadata": {},
   "source": [
    "### Chaining"
   ]
  },
  {
   "cell_type": "markdown",
   "metadata": {},
   "source": [
    "Chaining is a technique that is used to solve the problem of collision by using \n",
    "linked lists that each have unique indexes."
   ]
  },
  {
   "cell_type": "markdown",
   "metadata": {},
   "source": [
    "### Probing"
   ]
  },
  {
   "cell_type": "markdown",
   "metadata": {},
   "source": [
    "The other technique that is used to resolve collision is probing. \n",
    "When using the probing method, if a collision occurs, we can simply move on \n",
    "and find an empty slot to store our value."
   ]
  },
  {
   "cell_type": "code",
   "execution_count": 5,
   "metadata": {},
   "outputs": [
    {
     "name": "stdout",
     "output_type": "stream",
     "text": [
      "[2, 3, 5, 4, 2, 0]\n"
     ]
    }
   ],
   "source": [
    "def hash_key(key):\n",
    "    return key % 7\n",
    "\n",
    "result = []\n",
    "for key in [2, 3, 5, 4, 9, 7]:\n",
    "    result.append(hash_key(key))\n",
    "print(result)"
   ]
  },
  {
   "cell_type": "code",
   "execution_count": 10,
   "metadata": {},
   "outputs": [
    {
     "name": "stdout",
     "output_type": "stream",
     "text": [
      "[['Nepal'], [], [], [], [], [], [], [], [], []]\n",
      "[['Nepal'], [], [], [], [], ['USA'], [], [], [], []]\n",
      "[['Nepal', 'India'], [], [], [], [], ['USA'], [], [], [], []]\n"
     ]
    }
   ],
   "source": [
    "hash_table = [[] for _ in range(10)]\n",
    "\n",
    "def hashing_func(key):\n",
    "    return key % len(hash_table)\n",
    "\n",
    "def insert(hash_table, key, value):\n",
    "    hash_key = hashing_func(key)\n",
    "    hash_table[hash_key].append(value)\n",
    "    \n",
    "insert(hash_table, 10, 'Nepal')\n",
    "print (hash_table)\n",
    "\n",
    "insert(hash_table, 25, 'USA')\n",
    "print (hash_table)\n",
    "\n",
    "insert(hash_table, 20, 'India')\n",
    "print (hash_table)"
   ]
  }
 ],
 "metadata": {
  "kernelspec": {
   "display_name": "Python 3",
   "language": "python",
   "name": "python3"
  },
  "language_info": {
   "codemirror_mode": {
    "name": "ipython",
    "version": 3
   },
   "file_extension": ".py",
   "mimetype": "text/x-python",
   "name": "python",
   "nbconvert_exporter": "python",
   "pygments_lexer": "ipython3",
   "version": "3.8.3"
  }
 },
 "nbformat": 4,
 "nbformat_minor": 4
}
