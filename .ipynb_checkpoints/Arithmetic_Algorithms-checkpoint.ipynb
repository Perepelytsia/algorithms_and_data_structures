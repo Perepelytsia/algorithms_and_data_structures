{
 "cells": [
  {
   "cell_type": "markdown",
   "metadata": {},
   "source": [
    "# Sieve of Eratosthenes"
   ]
  },
  {
   "cell_type": "markdown",
   "metadata": {},
   "source": [
    "Алгоритм Эратосфена как раз заключается в последовательной проверке делимости чисел на предстоящие простые числа. Сначала берется первое простое и из ряда натуральных чисел высеиваются все кратные ему. Затем берется следующее простое и отсеиваются все кратные ему и так далее."
   ]
  },
  {
   "cell_type": "code",
   "execution_count": 24,
   "metadata": {},
   "outputs": [
    {
     "name": "stdout",
     "output_type": "stream",
     "text": [
      "{2, 3, 5, 7, 11, 13, 17, 19}\n"
     ]
    }
   ],
   "source": [
    "n = 20\n",
    "prime = [i for i in range(n + 1)] \n",
    "# Вторым элементом является единица, которую не считают простым числом забиваем ее нулем.\n",
    "prime[1] = 0\n",
    "# начинаем с 3-го элемента\n",
    "i = 2\n",
    "while i <= n:\n",
    "    # Если значение ячейки до этого не было обнулено, в этой ячейке содержится простое число\n",
    "    if prime[i] != 0:\n",
    "        # первое кратное ему будет в два раза больше\n",
    "        j = i + i\n",
    "        while j <= n:\n",
    "            # это число составное, поэтому заменяем его нулем\n",
    "            prime[j] = 0\n",
    "            # переходим к следующему числу, которое кратно i (оно на i больше)\n",
    "            j = j + i\n",
    "    #print([i, prime])\n",
    "    i += 1\n",
    "            \n",
    "prime = set(prime)\n",
    "prime.remove(0)\n",
    "print(prime)"
   ]
  },
  {
   "cell_type": "code",
   "execution_count": null,
   "metadata": {},
   "outputs": [],
   "source": [
    "На практике, алгоритм можно улучшить следующим образом. Можно зачеркивать начиная сразу с числа p2, потому что все \n",
    "составные числа меньше него уже будут зачеркнуты к этому времени. И, соответственно, останавливать алгоритм можно, \n",
    "когда p2 станет больше, чем n. \n",
    "Также, все простые числа (кроме 2) — нечётные числа, и поэтому для них можно считать шагами по 2p, начиная с p2. "
   ]
  },
  {
   "cell_type": "markdown",
   "metadata": {},
   "source": [
    "# Sieve of Sundaram"
   ]
  },
  {
   "cell_type": "code",
   "execution_count": 28,
   "metadata": {},
   "outputs": [
    {
     "name": "stdout",
     "output_type": "stream",
     "text": [
      "3 5 7 11 13 17 19 23 29 31 37 41 43 47 53 59 61 67 71 73 79 83 89 97 101 "
     ]
    }
   ],
   "source": [
    "# in general Sieve of Sundaram,  produces primes smaller than (2*x + 2) for a number  \n",
    "# given number x. Since we want primes smaller than n, we reduce n to half\n",
    "n = 102\n",
    "nNew   = int((n - 1) / 2)\n",
    "marked = [0] * (nNew + 1)\n",
    "# Main logic of Sundaram. Mark all  \n",
    "# numbers of the form i + j + 2ij  \n",
    "# as true where 1 <= i <= j\n",
    "for i in range(1, nNew + 1):\n",
    "    j = i\n",
    "    while (i + j + 2 * i * j) <= nNew:\n",
    "        marked[i + j + 2 * i * j] = 1;\n",
    "        j += 1;  \n",
    "\n",
    "# Print other primes. Remaining  \n",
    "# primes are of the form 2*i + 1  \n",
    "# such that marked[i] is false. \n",
    "for i in range(1, nNew + 1): \n",
    "    if (marked[i] == 0): \n",
    "        print((2 * i + 1), end = \" \");"
   ]
  },
  {
   "cell_type": "code",
   "execution_count": null,
   "metadata": {},
   "outputs": [],
   "source": []
  }
 ],
 "metadata": {
  "kernelspec": {
   "display_name": "Python 3",
   "language": "python",
   "name": "python3"
  },
  "language_info": {
   "codemirror_mode": {
    "name": "ipython",
    "version": 3
   },
   "file_extension": ".py",
   "mimetype": "text/x-python",
   "name": "python",
   "nbconvert_exporter": "python",
   "pygments_lexer": "ipython3",
   "version": "3.8.3"
  }
 },
 "nbformat": 4,
 "nbformat_minor": 4
}
