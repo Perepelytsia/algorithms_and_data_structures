{
 "cells": [
  {
   "cell_type": "markdown",
   "metadata": {},
   "source": [
    "A tree whose elements have at most 2 children is called a binary tree. \n",
    "Since each element in a binary tree can have only 2 children, we typically name them \n",
    "the left and right child."
   ]
  },
  {
   "cell_type": "code",
   "execution_count": 1,
   "metadata": {},
   "outputs": [],
   "source": [
    "class Node:\n",
    "    def __init__(self, data: int, level: int):\n",
    "        self.left = None\n",
    "        self.right= None\n",
    "        self.data = data\n",
    "        self.level= level\n",
    "        \n",
    "    def insert(self, data):\n",
    "        if self.data:\n",
    "            nextLevel = self.level + 1\n",
    "            if data <= self.data:\n",
    "                if self.left is None:\n",
    "                    self.left = Node(data, nextLevel)\n",
    "                else:\n",
    "                    self.left.insert(data)\n",
    "            elif data > self.data:\n",
    "                if self.right is None:\n",
    "                    self.right = Node(data, nextLevel)\n",
    "                else:\n",
    "                    self.right.insert(data)\n",
    "        else:\n",
    "            self.data = data\n",
    "\n",
    "    # Print the tree\n",
    "    def printTree(self, level: int):\n",
    "        if self.left:\n",
    "            self.left.printTree(level)\n",
    "        print(' ' * self.level + str(self.data))\n",
    "        if self.right:\n",
    "            self.right.printTree(level)"
   ]
  },
  {
   "cell_type": "code",
   "execution_count": 2,
   "metadata": {},
   "outputs": [
    {
     "name": "stdout",
     "output_type": "stream",
     "text": [
      "  11\n",
      " 12\n",
      "  33\n",
      "46\n",
      "   53\n",
      "    54\n",
      "  55\n",
      " 88\n",
      "  99\n"
     ]
    }
   ],
   "source": [
    "root = Node(46, 0)\n",
    "\n",
    "root.insert(88)\n",
    "root.insert(12)\n",
    "root.insert(33)\n",
    "root.insert(11)\n",
    "root.insert(99)\n",
    "root.insert(55)\n",
    "root.insert(53)\n",
    "root.insert(54)\n",
    "\n",
    "root.printTree(0)"
   ]
  }
 ],
 "metadata": {
  "kernelspec": {
   "display_name": "Python 3",
   "language": "python",
   "name": "python3"
  },
  "language_info": {
   "codemirror_mode": {
    "name": "ipython",
    "version": 3
   },
   "file_extension": ".py",
   "mimetype": "text/x-python",
   "name": "python",
   "nbconvert_exporter": "python",
   "pygments_lexer": "ipython3",
   "version": "3.8.3"
  }
 },
 "nbformat": 4,
 "nbformat_minor": 4
}
