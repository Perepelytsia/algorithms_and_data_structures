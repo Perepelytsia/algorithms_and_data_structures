{
 "cells": [
  {
   "cell_type": "markdown",
   "metadata": {},
   "source": [
    "Heap is a special tree structure in which each parent node is less than or equal to its child \n",
    "node. Then it is called a Min Heap. If each parent node is greater than or equal to its child \n",
    "node then it is called a max heap. A binary heap is a heap data structure that takes the form \n",
    "of a binary tree."
   ]
  },
  {
   "cell_type": "markdown",
   "metadata": {},
   "source": [
    "You can access a parent node or a child nodes in the array with indices below.\n",
    "\n",
    "A root node｜i = 1, the first item of the array\n",
    "\n",
    "A parent node｜parent(i) = i / 2\n",
    "\n",
    "A left child node｜left(i) = 2i\n",
    "\n",
    "A right child node｜right(i) = 2i+1"
   ]
  },
  {
   "cell_type": "code",
   "execution_count": 1,
   "metadata": {},
   "outputs": [],
   "source": [
    "class Heap: \n",
    "    def __init__(self, isMaxHeap = True):\n",
    "        self.__isMaxHeap = isMaxHeap\n",
    "        self.__vertices = []\n",
    "        \n",
    "    def __getVal(self, pos: int)-> int:\n",
    "        return self.__vertices[pos]\n",
    "\n",
    "    def __getParentPos(self, pos: int) -> int:\n",
    "        return (pos - 1) // 2\n",
    "    \n",
    "    def __getLeftChildPos(self, pos: int) -> int:\n",
    "        return pos * 2 + 1\n",
    "    \n",
    "    def __getRightChildPos(self, pos: int) -> int:\n",
    "        return pos * 2 + 2\n",
    "\n",
    "    def __isNotRoot(self, pos: int) -> bool:\n",
    "        return pos != 0\n",
    "\n",
    "    def __getlastPos(self) -> int:\n",
    "        return len(self.__vertices) - 1\n",
    "\n",
    "    def __swap(self, pos1: int, pos2: int, isPrint = False):\n",
    "        self.__vertices[pos1], self.__vertices[pos2] = self.__getVal(pos2), self.__getVal(pos1)\n",
    "        if isPrint:\n",
    "            self.printTree(pos1, '^^')\n",
    "            \n",
    "    def __compare(self, pos1: int, pos2: int) -> bool:\n",
    "        if self.__isMaxHeap:\n",
    "            return self.__getVal(pos2) < self.__getVal(pos1)\n",
    "        else:\n",
    "            return self.__getVal(pos2) > self.__getVal(pos1)\n",
    "\n",
    "    def __heapify(self, isPrint = False):\n",
    "        currentPos = 0\n",
    "        if isPrint:\n",
    "            self.printTree(currentPos)\n",
    "        while self.__getLeftChildPos(currentPos) <= self.__getlastPos():\n",
    "            if self.__getRightChildPos(currentPos) > self.__getlastPos():\n",
    "                maxChildPos = self.__getLeftChildPos(currentPos)\n",
    "            else:\n",
    "                if self.__getVal(self.__getRightChildPos(currentPos)) > self.__getVal(self.__getLeftChildPos(currentPos)):\n",
    "                    maxChildPos = self.__getRightChildPos(currentPos)\n",
    "                else:\n",
    "                    maxChildPos = self.__getLeftChildPos(currentPos)\n",
    "            if self.__compare(maxChildPos, currentPos):\n",
    "                    self.__swap(maxChildPos, currentPos, isPrint)\n",
    "                    currentPos = maxChildPos\n",
    "            else:\n",
    "                    break\n",
    "    \n",
    "    def insert(self, element: int, isPrint = False):\n",
    "        self.__vertices.append(element)\n",
    "        currentPos = self.__getlastPos()\n",
    "        if isPrint:\n",
    "            self.printTree(currentPos)\n",
    "        while self.__isNotRoot(currentPos) and self.__compare(currentPos, self.__getParentPos(currentPos)):\n",
    "            parentPos = self.__getParentPos(currentPos)\n",
    "            self.__swap(parentPos, currentPos, isPrint)\n",
    "            currentPos = parentPos\n",
    "            \n",
    "    def get(self, isPrint = False):\n",
    "        if self.__getlastPos() > 0:\n",
    "            self.__vertices[0], top = self.__vertices.pop(self.__getlastPos()), self.__vertices[0]\n",
    "            self.__heapify(isPrint)\n",
    "            return top\n",
    "        elif self.__getlastPos() == 0:\n",
    "            return self.__vertices.pop(self.__getlastPos())\n",
    "        else:\n",
    "            return None\n",
    "            \n",
    "    def printTree(self, activeVertice = -1, symbols = '[]'):\n",
    "        TAB_SIZE = 100\n",
    "        row = ''\n",
    "        levelVerticeCnt = 1\n",
    "        tab    = int(TAB_SIZE / 2)\n",
    "        for pos in range(len(self.__vertices)):\n",
    "            if pos == levelVerticeCnt:\n",
    "                print(row)\n",
    "                levelVerticeCnt = 2 * pos + 1\n",
    "                row    = ''\n",
    "                tab    = int(TAB_SIZE / (1 + levelVerticeCnt - pos))\n",
    "            if activeVertice >= 0 and activeVertice == pos:\n",
    "                row   += ' ' * tab + symbols[0] + str(self.__vertices[pos]) + symbols[1]\n",
    "            else:\n",
    "                row   += ' ' * tab + str(self.__vertices[pos])\n",
    "        print(row)\n",
    "        print('-' * TAB_SIZE)"
   ]
  },
  {
   "cell_type": "code",
   "execution_count": 3,
   "metadata": {},
   "outputs": [
    {
     "name": "stdout",
     "output_type": "stream",
     "text": [
      "                                                  19\n",
      "                                 11                                 15\n",
      "----------------------------------------------------------------------------------------------------\n",
      "                                                  [15]\n",
      "                                 11\n",
      "----------------------------------------------------------------------------------------------------\n"
     ]
    },
    {
     "data": {
      "text/plain": [
       "19"
      ]
     },
     "execution_count": 3,
     "metadata": {},
     "output_type": "execute_result"
    }
   ],
   "source": [
    "heap = Heap() \n",
    "for e in [11, 44, 34, 19, 93, 81, 15, 34, 78]: \n",
    "    heap.insert(e)\n",
    "#heap.insert(99, True)\n",
    "heap.get()\n",
    "heap.get()\n",
    "heap.get()\n",
    "heap.get()\n",
    "heap.get()\n",
    "heap.get()\n",
    "#heap.get()\n",
    "#heap.get()\n",
    "#heap.get()\n",
    "heap.printTree()\n",
    "heap.get(True)"
   ]
  },
  {
   "cell_type": "code",
   "execution_count": null,
   "metadata": {},
   "outputs": [],
   "source": []
  }
 ],
 "metadata": {
  "kernelspec": {
   "display_name": "Python 3",
   "language": "python",
   "name": "python3"
  },
  "language_info": {
   "codemirror_mode": {
    "name": "ipython",
    "version": 3
   },
   "file_extension": ".py",
   "mimetype": "text/x-python",
   "name": "python",
   "nbconvert_exporter": "python",
   "pygments_lexer": "ipython3",
   "version": "3.8.3"
  }
 },
 "nbformat": 4,
 "nbformat_minor": 4
}
