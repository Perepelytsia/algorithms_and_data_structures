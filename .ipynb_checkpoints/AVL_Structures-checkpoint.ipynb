{
 "cells": [
  {
   "cell_type": "markdown",
   "metadata": {},
   "source": [
    "AVL tree is a self-balancing Binary Search Tree (BST) where the difference between \n",
    "heights of left and right subtrees cannot be more than one for all nodes."
   ]
  },
  {
   "cell_type": "code",
   "execution_count": 126,
   "metadata": {},
   "outputs": [],
   "source": [
    "from binarytree import Node as Visual\n",
    "\n",
    "class Node:\n",
    "    DIRECTIONS = {-1: 'left', 1: 'right'}\n",
    "    \n",
    "    def __init__(self, data: int):\n",
    "        self.left     = None\n",
    "        self.right    = None\n",
    "        self.data     = data\n",
    "        self.leftCnt  = 0\n",
    "        self.rightCnt = 0\n",
    "        self.content  = {\n",
    "            'data': lambda: self.data, \n",
    "            'balance': lambda: self.rightCnt - self.leftCnt\n",
    "        }\n",
    "        \n",
    "    def isUnbalanced(self) -> bool:\n",
    "        return abs(self.content['balance']()) > 1\n",
    "    \n",
    "    def getChildDirection(self, node: Node) -> int:\n",
    "        if node is self.left:\n",
    "            return -1\n",
    "        else:\n",
    "            return 1\n",
    "    \n",
    "    def insertNode(self, data: int, chain: list):\n",
    "        chain.append(self)\n",
    "        for sign in self.DIRECTIONS:\n",
    "            child = self.DIRECTIONS[sign]\n",
    "            if sign * data >= sign * self.content['data']():\n",
    "                setattr(self, child+'Cnt', getattr(self, child+'Cnt') + 1)\n",
    "                if getattr(self, child) is None:\n",
    "                    setattr(self, child, Node(data))\n",
    "                    chain.append(getattr(self, child))\n",
    "                else:\n",
    "                    branch = getattr(self, child)\n",
    "                    branch.insertNode(data, chain)\n",
    "                break\n",
    "                \n",
    "    def printTree(self, contentKey: str, visual=None) -> Visual:\n",
    "        if visual is None: \n",
    "            visual = Visual(self.content[contentKey]())\n",
    "            \n",
    "        for sign in self.DIRECTIONS:\n",
    "            child = self.DIRECTIONS[sign]\n",
    "            if getattr(self, child):\n",
    "                branch = getattr(self, child)\n",
    "                setattr(visual, child, Visual(branch.content[contentKey]()))\n",
    "                branch.printTree(contentKey, getattr(visual, child))\n",
    "                \n",
    "        return visual"
   ]
  },
  {
   "cell_type": "code",
   "execution_count": 242,
   "metadata": {},
   "outputs": [],
   "source": [
    "class Tree:\n",
    "    @classmethod\n",
    "    def getOppositeBranch(cls, branch: str)-> str:\n",
    "        return {'left':'right', 'right':'left'}[branch]\n",
    "    \n",
    "    def __init__(self, data: int):\n",
    "        self.root = Node(data)\n",
    "        \n",
    "    def isRoot(self, node: Node) -> bool:\n",
    "        return self.root is node\n",
    "    \n",
    "    def add(self, data: int):\n",
    "        chain = []\n",
    "        self.root.insertNode(data, chain)\n",
    "        self.reBalance(chain)\n",
    "        \n",
    "    def reBalance(self, chain: list):\n",
    "        if len(chain) < 3:\n",
    "            return None;\n",
    "        elif len(chain) == 3:\n",
    "            chain = [None] + chain\n",
    "        else:\n",
    "            chain = chain[-4:]\n",
    "        \n",
    "        if chain[1].isUnbalanced():\n",
    "            moves = []\n",
    "            for i in range(3):\n",
    "                if chain[i] is None:\n",
    "                    moves.append(0)\n",
    "                else:\n",
    "                    moves.append(chain[i].getChildDirection(chain[i+1]))\n",
    "                    \n",
    "            if sum(moves[1:]):\n",
    "                pass\n",
    "            else:\n",
    "                self.rotate(chain, moves, 1)\n",
    "    \n",
    "    def rotate (self, chain: list, moves: list, fixedIndex: int):\n",
    "        insertedBranchToChild   = Node.DIRECTIONS[moves[fixedIndex+1]]\n",
    "        setattr(chain[fixedIndex+1], insertedBranchToChild, None)\n",
    "        \n",
    "        oppositeBranchToChild = Tree.getOppositeBranch(insertedBranchToChild)\n",
    "        setattr(chain[fixedIndex+2], oppositeBranchToChild, chain[fixedIndex+1])\n",
    "        \n",
    "        insertedBranchFromFixed = Node.DIRECTIONS[moves[fixedIndex]]\n",
    "        setattr(chain[fixedIndex], insertedBranchFromFixed, chain[fixedIndex+2])\n",
    "        \n",
    "    def show(self, content: str):\n",
    "        print(self.root.printTree(content))"
   ]
  },
  {
   "cell_type": "code",
   "execution_count": 243,
   "metadata": {},
   "outputs": [
    {
     "name": "stdout",
     "output_type": "stream",
     "text": [
      "\n",
      "     ____46\n",
      "    /      \\\n",
      "  _20       50\n",
      " /   \\\n",
      "13    25\n",
      "\n"
     ]
    }
   ],
   "source": [
    "tree = Tree(46)\n",
    "tree.add(50)\n",
    "tree.add(20)\n",
    "#tree.add(13)\n",
    "tree.add(25)\n",
    "tree.add(13)\n",
    "tree.show('data')"
   ]
  },
  {
   "cell_type": "code",
   "execution_count": null,
   "metadata": {},
   "outputs": [],
   "source": []
  },
  {
   "cell_type": "code",
   "execution_count": null,
   "metadata": {},
   "outputs": [],
   "source": []
  },
  {
   "cell_type": "code",
   "execution_count": null,
   "metadata": {},
   "outputs": [],
   "source": []
  }
 ],
 "metadata": {
  "kernelspec": {
   "display_name": "Python 3",
   "language": "python",
   "name": "python3"
  },
  "language_info": {
   "codemirror_mode": {
    "name": "ipython",
    "version": 3
   },
   "file_extension": ".py",
   "mimetype": "text/x-python",
   "name": "python",
   "nbconvert_exporter": "python",
   "pygments_lexer": "ipython3",
   "version": "3.8.3"
  }
 },
 "nbformat": 4,
 "nbformat_minor": 4
}
