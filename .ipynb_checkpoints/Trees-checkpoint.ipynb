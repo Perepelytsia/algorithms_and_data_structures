{
 "cells": [
  {
   "cell_type": "markdown",
   "metadata": {},
   "source": [
    "# Binary Tree"
   ]
  },
  {
   "cell_type": "markdown",
   "metadata": {},
   "source": [
    "A tree whose elements have at most 2 children is called a binary tree. Since each element in a binary tree \n",
    "can have only 2 children, we typically name them the left and right child."
   ]
  },
  {
   "cell_type": "code",
   "execution_count": 51,
   "metadata": {},
   "outputs": [
    {
     "name": "stdout",
     "output_type": "stream",
     "text": [
      "  11\n",
      " 12\n",
      "  33\n",
      "46\n",
      "   53\n",
      "    54\n",
      "  55\n",
      " 88\n",
      "  99\n"
     ]
    }
   ],
   "source": [
    "class Node:\n",
    "    def __init__(self, data: int, level: int):\n",
    "        self.left = None\n",
    "        self.right = None\n",
    "        self.data = data\n",
    "        self.level= level\n",
    "        \n",
    "    def insert(self, data):\n",
    "        # Compare the new value with the parent node\n",
    "        # insert for BST\n",
    "        if self.data:\n",
    "            nextLevel = self.level + 1\n",
    "            if data < self.data:\n",
    "                if self.left is None:\n",
    "                    self.left = Node(data, nextLevel)\n",
    "                else:\n",
    "                    self.left.insert(data)\n",
    "            elif data > self.data:\n",
    "                if self.right is None:\n",
    "                    self.right = Node(data, nextLevel)\n",
    "                else:\n",
    "                    self.right.insert(data)\n",
    "        else:\n",
    "            self.data = data\n",
    "\n",
    "    # Print the tree\n",
    "    def printTree(self, level: int):\n",
    "        if self.left:\n",
    "            self.left.printTree(level)\n",
    "        print(' ' * self.level + str(self.data))\n",
    "        if self.right:\n",
    "            self.right.printTree(level)\n",
    "\n",
    "root = Node(46, 0)\n",
    "\n",
    "root.insert(88)\n",
    "root.insert(12)\n",
    "root.insert(33)\n",
    "root.insert(11)\n",
    "root.insert(99)\n",
    "root.insert(55)\n",
    "root.insert(53)\n",
    "root.insert(54)\n",
    "\n",
    "root.printTree(0)"
   ]
  },
  {
   "cell_type": "markdown",
   "metadata": {},
   "source": [
    "# Binary Search Tree"
   ]
  },
  {
   "cell_type": "markdown",
   "metadata": {},
   "source": [
    "(BST), also called an ordered or sorted binary tree, is a rooted binary tree whose internal \n",
    "nodes each store a key greater than all the keys in the node's left subtree and less than those in its right \n",
    "subtree. A binary tree is a type of data structure for storing data such as numbers in an organized way.\n",
    "left_subtree (keys)  ≤  node (key)  ≤  right_subtree (keys)"
   ]
  },
  {
   "cell_type": "code",
   "execution_count": 54,
   "metadata": {},
   "outputs": [
    {
     "name": "stdout",
     "output_type": "stream",
     "text": [
      "7 Not Found\n",
      "14 is found\n"
     ]
    }
   ],
   "source": [
    "class Node:\n",
    "    def __init__(self, data):\n",
    "        self.left  = None\n",
    "        self.right = None\n",
    "        self.data  = data\n",
    "\n",
    "    # Insert method to create nodes\n",
    "    def insert(self, data):\n",
    "        if self.data:\n",
    "            if data < self.data:\n",
    "                if self.left is None:\n",
    "                    self.left = Node(data)\n",
    "                else:\n",
    "                    self.left.insert(data)\n",
    "            elif data > self.data:\n",
    "                if self.right is None:\n",
    "                    self.right = Node(data)\n",
    "                else:\n",
    "                    self.right.insert(data)\n",
    "        else:\n",
    "            self.data = data\n",
    "            \n",
    "    # findval method to compare the value with nodes\n",
    "    def findval(self, lkpval):\n",
    "        if lkpval < self.data:\n",
    "            if self.left is None:\n",
    "                return str(lkpval)+\" Not Found\"\n",
    "            return self.left.findval(lkpval)\n",
    "        elif lkpval > self.data:\n",
    "            if self.right is None:\n",
    "                return str(lkpval)+\" Not Found\"\n",
    "            return self.right.findval(lkpval)\n",
    "        else:\n",
    "            return str(self.data) + ' is found'\n",
    "            \n",
    "root = Node(12)\n",
    "\n",
    "root.insert(6)\n",
    "root.insert(14)\n",
    "root.insert(3)\n",
    "\n",
    "print(root.findval(7))\n",
    "print(root.findval(14))"
   ]
  },
  {
   "cell_type": "markdown",
   "metadata": {},
   "source": [
    "Search      O(log n)\n",
    "Insert      O(log n)\n",
    "Delete      O(log n)"
   ]
  },
  {
   "cell_type": "markdown",
   "metadata": {},
   "source": [
    "# Binary heap"
   ]
  },
  {
   "cell_type": "markdown",
   "metadata": {},
   "source": [
    "Heap is a special tree structure in which each parent node is less than or equal to its child node. Then it is \n",
    "called a Min Heap. If each parent node is greater than or equal to its child node then it is called a max heap.\n",
    "A binary heap is a heap data structure that takes the form of a binary tree."
   ]
  },
  {
   "cell_type": "code",
   "execution_count": null,
   "metadata": {},
   "outputs": [],
   "source": []
  }
 ],
 "metadata": {
  "kernelspec": {
   "display_name": "Python 3",
   "language": "python",
   "name": "python3"
  },
  "language_info": {
   "codemirror_mode": {
    "name": "ipython",
    "version": 3
   },
   "file_extension": ".py",
   "mimetype": "text/x-python",
   "name": "python",
   "nbconvert_exporter": "python",
   "pygments_lexer": "ipython3",
   "version": "3.8.3"
  }
 },
 "nbformat": 4,
 "nbformat_minor": 4
}
